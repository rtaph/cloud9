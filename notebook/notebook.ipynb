{
 "cells": [
  {
   "cell_type": "markdown",
   "metadata": {},
   "source": [
    "# Lab 1"
   ]
  },
  {
   "cell_type": "code",
   "execution_count": 1,
   "metadata": {},
   "outputs": [],
   "source": [
    "# All code below is referenced from Lecture_1_2.ipynb provided by Gittu George for DSCI 525"
   ]
  },
  {
   "cell_type": "code",
   "execution_count": 2,
   "metadata": {},
   "outputs": [],
   "source": [
    "# import packages\n",
    "\n",
    "import re\n",
    "import os\n",
    "import glob\n",
    "import zipfile\n",
    "import requests\n",
    "from urllib.request import urlretrieve\n",
    "import json\n",
    "import pandas as pd\n",
    "from memory_profiler import memory_usage\n",
    "from os import listdir\n",
    "from functools import reduce"
   ]
  },
  {
   "cell_type": "code",
   "execution_count": 3,
   "metadata": {},
   "outputs": [],
   "source": [
    "%load_ext rpy2.ipython"
   ]
  },
  {
   "cell_type": "code",
   "execution_count": 4,
   "metadata": {},
   "outputs": [],
   "source": [
    "%load_ext memory_profiler"
   ]
  },
  {
   "cell_type": "code",
   "execution_count": 5,
   "metadata": {},
   "outputs": [],
   "source": [
    "# Necessary metadata\n",
    "article_id = 14096681  # this is the unique identifier of the article on figshare\n",
    "url = f\"https://api.figshare.com/v2/articles/{article_id}\"\n",
    "headers = {\"Content-Type\": \"application/json\"}\n",
    "output_directory = \"figshareairline/\""
   ]
  },
  {
   "cell_type": "code",
   "execution_count": 6,
   "metadata": {},
   "outputs": [
    {
     "data": {
      "text/plain": "[{'is_link_only': False,\n  'name': 'daily_rainfall_2014.png',\n  'supplied_md5': 'fd32a2ffde300a31f8d63b1825d47e5e',\n  'computed_md5': 'fd32a2ffde300a31f8d63b1825d47e5e',\n  'id': 26579150,\n  'download_url': 'https://ndownloader.figshare.com/files/26579150',\n  'size': 58863},\n {'is_link_only': False,\n  'name': 'environment.yml',\n  'supplied_md5': '060b2020017eed93a1ee7dd8c65b2f34',\n  'computed_md5': '060b2020017eed93a1ee7dd8c65b2f34',\n  'id': 26579171,\n  'download_url': 'https://ndownloader.figshare.com/files/26579171',\n  'size': 192},\n {'is_link_only': False,\n  'name': 'README.md',\n  'supplied_md5': '61858c6cc0e6a6d6663a7e4c75bbd88c',\n  'computed_md5': '61858c6cc0e6a6d6663a7e4c75bbd88c',\n  'id': 26586554,\n  'download_url': 'https://ndownloader.figshare.com/files/26586554',\n  'size': 5422},\n {'is_link_only': False,\n  'name': 'data.zip',\n  'supplied_md5': 'b517383f76e77bd03755a63a8ff83ee9',\n  'computed_md5': 'b517383f76e77bd03755a63a8ff83ee9',\n  'id': 26766812,\n  'download_url': 'https://ndownloader.figshare.com/files/26766812',\n  'size': 814041183},\n {'is_link_only': False,\n  'name': 'get_data.py',\n  'supplied_md5': '7829028495fd9dec9680ea013474afa6',\n  'computed_md5': '7829028495fd9dec9680ea013474afa6',\n  'id': 26766815,\n  'download_url': 'https://ndownloader.figshare.com/files/26766815',\n  'size': 4113}]"
     },
     "execution_count": 6,
     "metadata": {},
     "output_type": "execute_result"
    }
   ],
   "source": [
    "response = requests.request(\"GET\", url, headers=headers)\n",
    "data = json.loads(response.text)  # this contains all the articles data, feel free to check it out\n",
    "files = data[\"files\"]             # this is just the data about the files, which is what we want\n",
    "files"
   ]
  },
  {
   "cell_type": "markdown",
   "metadata": {},
   "source": [
    "Next, we download the data:"
   ]
  },
  {
   "cell_type": "code",
   "execution_count": 7,
   "metadata": {},
   "outputs": [],
   "source": [
    "# make directory if missing\n",
    "os.makedirs(output_directory, exist_ok=True)\n",
    "\n",
    "# download missing files\n",
    "files_to_dl = [\"data.zip\"]\n",
    "for item in filter(lambda x: x['name'] in files_to_dl, files):\n",
    "    filename = os.path.join(output_directory, item[\"name\"])\n",
    "    if not os.path.isfile(filename):\n",
    "        urlretrieve(item[\"download_url\"], filename)"
   ]
  },
  {
   "cell_type": "markdown",
   "metadata": {},
   "source": [
    "The download took 55 mins on Raf's computer."
   ]
  },
  {
   "cell_type": "code",
   "execution_count": 8,
   "metadata": {},
   "outputs": [],
   "source": [
    "# open a read-only connection to zip file\n",
    "zfile = zipfile.ZipFile(glob.glob(output_directory + \"*.zip\")[0], \"r\")\n",
    "\n",
    "# list non-hidden files in zip\n",
    "csvs = list(filter(lambda x: not x.startswith(\"__\"), zfile.namelist()))"
   ]
  },
  {
   "cell_type": "code",
   "execution_count": 9,
   "metadata": {},
   "outputs": [
    {
     "name": "stdout",
     "output_type": "stream",
     "text": [
      "peak memory: 10401.11 MiB, increment: 10247.26 MiB\n",
      "CPU times: user 1min 11s, sys: 6.6 s, total: 1min 18s\n",
      "Wall time: 1min 19s\n"
     ]
    }
   ],
   "source": [
    "%%time\n",
    "%%memit\n",
    "\n",
    "# create a dictionary of dataframes\n",
    "dat = {x.split('_daily')[0]: pd.read_csv(zfile.open(x)) for x in csvs}\n",
    "\n",
    "# reshape to one big dataframe\n",
    "dat = pd.concat(dat, names=[\"model\", \"row\"])"
   ]
  },
  {
   "cell_type": "markdown",
   "metadata": {},
   "source": [
    "Unfortunately, `pd.concat` is quite memory hungry, as it will make a copy along the way. I tried a while loop with a `dat.pop(0)` but I haven't figured out how to avoid memory leaks and/or key errors."
   ]
  },
  {
   "cell_type": "code",
   "execution_count": 10,
   "metadata": {},
   "outputs": [
    {
     "name": "stdout",
     "output_type": "stream",
     "text": [
      "(62513863, 6)\n"
     ]
    }
   ],
   "source": [
    "print(dat.shape)"
   ]
  },
  {
   "cell_type": "code",
   "execution_count": 11,
   "metadata": {},
   "outputs": [
    {
     "data": {
      "text/html": "<div>\n<style scoped>\n    .dataframe tbody tr th:only-of-type {\n        vertical-align: middle;\n    }\n\n    .dataframe tbody tr th {\n        vertical-align: top;\n    }\n\n    .dataframe thead th {\n        text-align: right;\n    }\n</style>\n<table border=\"1\" class=\"dataframe\">\n  <thead>\n    <tr style=\"text-align: right;\">\n      <th></th>\n      <th></th>\n      <th>time</th>\n      <th>lat_min</th>\n      <th>lat_max</th>\n      <th>lon_min</th>\n      <th>lon_max</th>\n      <th>rain (mm/day)</th>\n    </tr>\n    <tr>\n      <th>model</th>\n      <th>row</th>\n      <th></th>\n      <th></th>\n      <th></th>\n      <th></th>\n      <th></th>\n      <th></th>\n    </tr>\n  </thead>\n  <tbody>\n    <tr>\n      <th rowspan=\"5\" valign=\"top\">MPI-ESM-1-2-HAM</th>\n      <th>0</th>\n      <td>1889-01-01 12:00:00</td>\n      <td>-35.439867</td>\n      <td>-33.574619</td>\n      <td>141.5625</td>\n      <td>143.4375</td>\n      <td>4.244226e-13</td>\n    </tr>\n    <tr>\n      <th>1</th>\n      <td>1889-01-02 12:00:00</td>\n      <td>-35.439867</td>\n      <td>-33.574619</td>\n      <td>141.5625</td>\n      <td>143.4375</td>\n      <td>4.217326e-13</td>\n    </tr>\n    <tr>\n      <th>2</th>\n      <td>1889-01-03 12:00:00</td>\n      <td>-35.439867</td>\n      <td>-33.574619</td>\n      <td>141.5625</td>\n      <td>143.4375</td>\n      <td>4.498125e-13</td>\n    </tr>\n    <tr>\n      <th>3</th>\n      <td>1889-01-04 12:00:00</td>\n      <td>-35.439867</td>\n      <td>-33.574619</td>\n      <td>141.5625</td>\n      <td>143.4375</td>\n      <td>4.251282e-13</td>\n    </tr>\n    <tr>\n      <th>4</th>\n      <td>1889-01-05 12:00:00</td>\n      <td>-35.439867</td>\n      <td>-33.574619</td>\n      <td>141.5625</td>\n      <td>143.4375</td>\n      <td>4.270161e-13</td>\n    </tr>\n  </tbody>\n</table>\n</div>",
      "text/plain": "                                    time    lat_min    lat_max   lon_min  \\\nmodel           row                                                        \nMPI-ESM-1-2-HAM 0    1889-01-01 12:00:00 -35.439867 -33.574619  141.5625   \n                1    1889-01-02 12:00:00 -35.439867 -33.574619  141.5625   \n                2    1889-01-03 12:00:00 -35.439867 -33.574619  141.5625   \n                3    1889-01-04 12:00:00 -35.439867 -33.574619  141.5625   \n                4    1889-01-05 12:00:00 -35.439867 -33.574619  141.5625   \n\n                      lon_max  rain (mm/day)  \nmodel           row                           \nMPI-ESM-1-2-HAM 0    143.4375   4.244226e-13  \n                1    143.4375   4.217326e-13  \n                2    143.4375   4.498125e-13  \n                3    143.4375   4.251282e-13  \n                4    143.4375   4.270161e-13  "
     },
     "execution_count": 11,
     "metadata": {},
     "output_type": "execute_result"
    }
   ],
   "source": [
    "dat.head()"
   ]
  }
 ],
 "metadata": {
  "kernelspec": {
   "display_name": "Python 3.9.2 64-bit ('525': conda)",
   "name": "python392jvsc74a57bd005797fc2cdc3635da643b7f934624ead7ff0671a5c0d686c615c03de40411722"
  },
  "language_info": {
   "codemirror_mode": {
    "name": "ipython",
    "version": 3
   },
   "file_extension": ".py",
   "mimetype": "text/x-python",
   "name": "python",
   "nbconvert_exporter": "python",
   "pygments_lexer": "ipython3",
   "version": "3.9.2"
  }
 },
 "nbformat": 4,
 "nbformat_minor": 4
}