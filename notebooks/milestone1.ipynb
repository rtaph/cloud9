{
 "cells": [
  {
   "cell_type": "markdown",
   "id": "round-phenomenon",
   "metadata": {},
   "source": [
    "# Milestone 1"
   ]
  },
  {
   "cell_type": "markdown",
   "id": "pharmaceutical-affiliate",
   "metadata": {},
   "source": [
    "Team Name: Cloud 9\n",
    "    \n",
    "Team members:\n",
    "- Chad Neald\n",
    "    - Windows10, 8GB memory, Dual cores i5\n",
    "- Elina Lin\n",
    "    - macOs, 16 GB memory, Quad cores i5\n",
    "- Jordan Lau\n",
    "    - macOS, 8GB memory, Dual Core i5\n",
    "- Rafael Pilliard Hellwig\n",
    "    - macOS, 32GB memory, 6x core i9"
   ]
  },
  {
   "cell_type": "markdown",
   "id": "detected-masters",
   "metadata": {},
   "source": [
    "> Attribution: Many parts of this assignment are adapted from code authored by Gittu George in his DSCI 525 lecture notes."
   ]
  },
  {
   "cell_type": "markdown",
   "id": "dominant-murder",
   "metadata": {},
   "source": [
    "## Part 0: Housekeeping\n",
    "\n",
    "A few additional software packages are required in addition to those from the course conda environment:"
   ]
  },
  {
   "cell_type": "code",
   "execution_count": 1,
   "id": "higher-cream",
   "metadata": {},
   "outputs": [
    {
     "name": "stdout",
     "output_type": "stream",
     "text": [
      "Collecting package metadata (current_repodata.json): done\n",
      "Solving environment: done\n",
      "\n",
      "## Package Plan ##\n",
      "\n",
      "  environment location: /Users/raf/opt/miniconda3/envs/525\n",
      "\n",
      "  added / updated specs:\n",
      "    - altair\n",
      "    - r-tidyverse\n",
      "\n",
      "\n",
      "The following NEW packages will be INSTALLED:\n",
      "\n",
      "  altair             conda-forge/noarch::altair-4.1.0-py_1\n",
      "  attrs              conda-forge/noarch::attrs-20.3.0-pyhd3deb0d_0\n",
      "  entrypoints        conda-forge/noarch::entrypoints-0.3-pyhd8ed1ab_1003\n",
      "  importlib-metadata conda-forge/osx-64::importlib-metadata-3.10.0-py39h6e9494a_0\n",
      "  jsonschema         conda-forge/noarch::jsonschema-3.2.0-pyhd8ed1ab_3\n",
      "  pandoc             conda-forge/osx-64::pandoc-2.13-h0d85af4_0\n",
      "  pyrsistent         conda-forge/osx-64::pyrsistent-0.17.3-py39hcbf5805_2\n",
      "  r-askpass          conda-forge/osx-64::r-askpass-1.1-r40h17f1fa6_2\n",
      "  r-base64enc        conda-forge/osx-64::r-base64enc-0.1_3-r40h17f1fa6_1004\n",
      "  r-blob             conda-forge/noarch::r-blob-1.2.1-r40h6115d3f_1\n",
      "  r-brio             conda-forge/osx-64::r-brio-1.1.1-r40h066c5db_0\n",
      "  r-broom            conda-forge/noarch::r-broom-0.7.5-r40hc72bb7e_0\n",
      "  r-callr            conda-forge/noarch::r-callr-3.6.0-r40hc72bb7e_0\n",
      "  r-cellranger       conda-forge/noarch::r-cellranger-1.1.0-r40h6115d3f_1003\n",
      "  r-clipr            conda-forge/noarch::r-clipr-0.7.1-r40h142f84f_0\n",
      "  r-colorspace       conda-forge/osx-64::r-colorspace-2.0_0-r40h6b199c2_0\n",
      "  r-cpp11            conda-forge/noarch::r-cpp11-0.2.7-r40hc72bb7e_0\n",
      "  r-curl             conda-forge/osx-64::r-curl-4.3-r40h28b5c78_1\n",
      "  r-dbi              conda-forge/noarch::r-dbi-1.1.1-r40hc72bb7e_0\n",
      "  r-dbplyr           conda-forge/noarch::r-dbplyr-2.1.0-r40hc72bb7e_0\n",
      "  r-desc             conda-forge/noarch::r-desc-1.3.0-r40hc72bb7e_0\n",
      "  r-diffobj          conda-forge/osx-64::r-diffobj-0.3.3-r40h066c5db_0\n",
      "  r-evaluate         conda-forge/noarch::r-evaluate-0.14-r40h6115d3f_2\n",
      "  r-farver           conda-forge/osx-64::r-farver-2.1.0-r40h9951f98_0\n",
      "  r-forcats          conda-forge/noarch::r-forcats-0.5.1-r40hc72bb7e_0\n",
      "  r-fs               conda-forge/osx-64::r-fs-1.5.0-r40h710217c_0\n",
      "  r-ggplot2          conda-forge/noarch::r-ggplot2-3.3.3-r40hc72bb7e_0\n",
      "  r-gtable           conda-forge/noarch::r-gtable-0.3.0-r40h6115d3f_3\n",
      "  r-haven            conda-forge/osx-64::r-haven-2.3.1-r40hee97c7f_0\n",
      "  r-highr            conda-forge/noarch::r-highr-0.8-r40h6115d3f_2\n",
      "  r-hms              conda-forge/noarch::r-hms-1.0.0-r40hc72bb7e_0\n",
      "  r-htmltools        conda-forge/osx-64::r-htmltools-0.5.1.1-r40h815b84a_0\n",
      "  r-httr             conda-forge/noarch::r-httr-1.4.2-r40h6115d3f_0\n",
      "  r-isoband          conda-forge/osx-64::r-isoband-0.2.4-r40h9951f98_0\n",
      "  r-jsonlite         conda-forge/osx-64::r-jsonlite-1.7.2-r40h066c5db_0\n",
      "  r-knitr            conda-forge/noarch::r-knitr-1.31-r40hc72bb7e_0\n",
      "  r-labeling         conda-forge/noarch::r-labeling-0.4.2-r40h142f84f_0\n",
      "  r-lattice          conda-forge/osx-64::r-lattice-0.20_41-r40h066c5db_3\n",
      "  r-lubridate        conda-forge/osx-64::r-lubridate-1.7.10-r40h9951f98_0\n",
      "  r-markdown         conda-forge/osx-64::r-markdown-1.1-r40h066c5db_1\n",
      "  r-mass             conda-forge/osx-64::r-mass-7.3_53.1-r40hf6ff476_0\n",
      "  r-matrix           conda-forge/osx-64::r-matrix-1.3_2-r40h9a4b173_0\n",
      "  r-mgcv             conda-forge/osx-64::r-mgcv-1.8_34-r40h9a4b173_0\n",
      "  r-mime             conda-forge/osx-64::r-mime-0.10-r40hf6ff476_0\n",
      "  r-modelr           conda-forge/noarch::r-modelr-0.1.8-r40h6115d3f_0\n",
      "  r-munsell          conda-forge/noarch::r-munsell-0.5.0-r40h6115d3f_1003\n",
      "  r-nlme             conda-forge/osx-64::r-nlme-3.1_152-r40h59bb11e_0\n",
      "  r-openssl          conda-forge/osx-64::r-openssl-1.4.3-r40ha713f70_0\n",
      "  r-pkgbuild         conda-forge/noarch::r-pkgbuild-1.2.0-r40hc72bb7e_0\n",
      "  r-pkgload          conda-forge/osx-64::r-pkgload-1.2.0-r40h4efb63e_0\n",
      "  r-plyr             conda-forge/osx-64::r-plyr-1.8.6-r40hc5da6b9_1\n",
      "  r-praise           conda-forge/noarch::r-praise-1.0.0-r40h6115d3f_1004\n",
      "  r-prettyunits      conda-forge/noarch::r-prettyunits-1.1.1-r40h6115d3f_1\n",
      "  r-processx         conda-forge/osx-64::r-processx-3.5.0-r40h28b5c78_0\n",
      "  r-progress         conda-forge/noarch::r-progress-1.2.2-r40h6115d3f_2\n",
      "  r-ps               conda-forge/osx-64::r-ps-1.6.0-r40h28b5c78_0\n",
      "  r-rcolorbrewer     conda-forge/noarch::r-rcolorbrewer-1.1_2-r40h6115d3f_1003\n",
      "  r-rcpp             conda-forge/osx-64::r-rcpp-1.0.6-r40h815b84a_0\n",
      "  r-readr            conda-forge/osx-64::r-readr-1.4.0-r40h342fd00_0\n",
      "  r-readxl           conda-forge/osx-64::r-readxl-1.3.1-r40hee97c7f_4\n",
      "  r-rematch          conda-forge/noarch::r-rematch-1.0.1-r40h6115d3f_1003\n",
      "  r-rematch2         conda-forge/noarch::r-rematch2-2.1.2-r40h6115d3f_1\n",
      "  r-reprex           conda-forge/noarch::r-reprex-1.0.0-r40hc72bb7e_0\n",
      "  r-reshape2         conda-forge/osx-64::r-reshape2-1.4.4-r40hc5da6b9_1\n",
      "  r-rmarkdown        conda-forge/noarch::r-rmarkdown-2.7-r40hc72bb7e_0\n",
      "  r-rprojroot        conda-forge/noarch::r-rprojroot-2.0.2-r40hc72bb7e_0\n",
      "  r-rstudioapi       conda-forge/noarch::r-rstudioapi-0.13-r40hc72bb7e_0\n",
      "  r-rvest            conda-forge/noarch::r-rvest-1.0.0-r40hc72bb7e_0\n",
      "  r-scales           conda-forge/noarch::r-scales-1.1.1-r40h6115d3f_0\n",
      "  r-selectr          conda-forge/noarch::r-selectr-0.4_2-r40h6115d3f_1\n",
      "  r-stringi          conda-forge/osx-64::r-stringi-1.5.3-r40h9aeca8d_1\n",
      "  r-stringr          conda-forge/noarch::r-stringr-1.4.0-r40h6115d3f_2\n",
      "  r-sys              conda-forge/osx-64::r-sys-3.4-r40h800e0f2_0\n",
      "  r-testthat         conda-forge/osx-64::r-testthat-3.0.2-r40h4efb63e_0\n",
      "  r-tidyr            conda-forge/osx-64::r-tidyr-1.1.3-r40h9951f98_0\n",
      "  r-tidyverse        conda-forge/noarch::r-tidyverse-1.3.0-r40h6115d3f_2\n",
      "  r-tinytex          conda-forge/noarch::r-tinytex-0.31-r40hc72bb7e_0\n",
      "  r-viridislite      conda-forge/noarch::r-viridislite-0.3.0-r40h6115d3f_1003\n",
      "  r-waldo            conda-forge/noarch::r-waldo-0.2.5-r40hc72bb7e_0\n",
      "  r-withr            conda-forge/noarch::r-withr-2.4.1-r40hc72bb7e_0\n",
      "  r-xfun             conda-forge/osx-64::r-xfun-0.20-r40h066c5db_0\n",
      "  r-xml2             conda-forge/osx-64::r-xml2-1.3.2-r40hc5da6b9_1\n",
      "  r-yaml             conda-forge/osx-64::r-yaml-2.2.1-r40h066c5db_1\n",
      "  zipp               conda-forge/noarch::zipp-3.4.1-pyhd8ed1ab_0\n",
      "\n",
      "\n",
      "Preparing transaction: done\n",
      "Verifying transaction: done\n",
      "Executing transaction: done\n",
      "\n",
      "Note: you may need to restart the kernel to use updated packages.\n"
     ]
    }
   ],
   "source": [
    "%conda install altair r-tidyverse -y"
   ]
  },
  {
   "cell_type": "markdown",
   "id": "visible-cambridge",
   "metadata": {},
   "source": [
    "Next, we load required modules:"
   ]
  },
  {
   "cell_type": "code",
   "execution_count": 1,
   "id": "impressive-island",
   "metadata": {},
   "outputs": [],
   "source": [
    "import dask.dataframe as dd\n",
    "import re\n",
    "import os\n",
    "import glob\n",
    "import sys\n",
    "import zipfile\n",
    "import requests\n",
    "from urllib.request import urlretrieve\n",
    "import json\n",
    "import pandas as pd\n",
    "import numpy as np\n",
    "from memory_profiler import memory_usage\n",
    "from os import listdir\n",
    "\n",
    "import pyarrow.parquet as pq\n",
    "import pyarrow.dataset as ds\n",
    "import pyarrow.feather as feather\n",
    "import rpy2_arrow.pyarrow_rarrow as pyra\n",
    "import altair as alt"
   ]
  },
  {
   "cell_type": "code",
   "execution_count": 2,
   "id": "rolled-exclusion",
   "metadata": {},
   "outputs": [],
   "source": [
    "# Save a vega-lite spec and a PNG blob for each plot in the notebook\n",
    "alt.renderers.enable('mimetype');"
   ]
  },
  {
   "cell_type": "code",
   "execution_count": 3,
   "id": "funded-profile",
   "metadata": {},
   "outputs": [],
   "source": [
    "%load_ext memory_profiler"
   ]
  },
  {
   "cell_type": "markdown",
   "id": "black-chemistry",
   "metadata": {},
   "source": [
    "## Part 1: Team-work contract"
   ]
  },
  {
   "cell_type": "markdown",
   "id": "subtle-locator",
   "metadata": {},
   "source": [
    "The team contract can be found in Canvas."
   ]
  },
  {
   "cell_type": "markdown",
   "id": "minute-tsunami",
   "metadata": {},
   "source": [
    "## Part 2: Creating repository and project structure"
   ]
  },
  {
   "cell_type": "markdown",
   "id": "exotic-server",
   "metadata": {},
   "source": [
    "The repo structure can be found in the main branch of [UBC-MDS/cloud9](https://github.com/UBC-MDS/cloud9)\n",
    "\n",
    "```bash\n",
    "(525) raf@POSEIDON (main) $ tree . -L 2\n",
    "\n",
    ".\n",
    "├── LICENSE\n",
    "├── README.md\n",
    "├── figshareairline\n",
    "└── notebook\n",
    "    ├── Untitled.ipynb\n",
    "    ├── combo_data.parquet\n",
    "    ├── combo_data.parquet2\n",
    "    ├── combo_data2.parquet\n",
    "    ├── figshareairline\n",
    "    ├── method1.ipynb\n",
    "    ├── method2.ipynb\n",
    "    ├── method3.ipynb\n",
    "    ├── method4.ipynb\n",
    "    ├── method5.ipynb\n",
    "    ├── method6.ipynb\n",
    "    ├── method7.ipynb\n",
    "    ├── notebook.ipynb\n",
    "    ├── notebook2.ipynb\n",
    "    └── section6.ipynb\n",
    "```\n",
    "\n",
    "\n",
    "Our team decided to try different data-loading methods in separate notebooks, so that each method could be run in full isolation in its own kernel. This would also allow team members to attempt to run an entire method, without a notebook potentially crashing before getting to methods further down in the analytical workflow."
   ]
  },
  {
   "cell_type": "markdown",
   "id": "announced-specific",
   "metadata": {},
   "source": [
    "## Part 3: Downloading the data"
   ]
  },
  {
   "cell_type": "markdown",
   "id": "roman-louisiana",
   "metadata": {},
   "source": [
    "For this assignment, we will use Tomas Beuzen's [_Daily rainfall over NSW_](https://figshare.com/articles/dataset/Daily_rainfall_over_NSW_Australia/14096681/3) data. .\n",
    "\n",
    "We'll save all our data--raw and intermediary-- to the following directory:"
   ]
  },
  {
   "cell_type": "code",
   "execution_count": 4,
   "id": "eleven-moore",
   "metadata": {},
   "outputs": [],
   "source": [
    "output_directory = \"figshareairline/\""
   ]
  },
  {
   "cell_type": "markdown",
   "id": "emotional-start",
   "metadata": {},
   "source": [
    "Since there are multiple files in the figshare repo, we will download this programatically"
   ]
  },
  {
   "cell_type": "code",
   "execution_count": 6,
   "id": "polar-disabled",
   "metadata": {},
   "outputs": [],
   "source": [
    "# Create a dictionary of files on Tom's figshare repo, along with metadata\n",
    "article_id = 14096681\n",
    "url = f\"https://api.figshare.com/v2/articles/{article_id}\"\n",
    "headers = {\"Content-Type\": \"application/json\"}\n",
    "\n",
    "response = requests.request(\"GET\", url, headers=headers)\n",
    "data = json.loads(response.text)\n",
    "files = data[\"files\"]"
   ]
  },
  {
   "cell_type": "markdown",
   "id": "earlier-memphis",
   "metadata": {},
   "source": [
    "We start by making a directory, if needed:"
   ]
  },
  {
   "cell_type": "code",
   "execution_count": 12,
   "id": "accurate-variance",
   "metadata": {},
   "outputs": [],
   "source": [
    "os.makedirs(output_directory, exist_ok=True)"
   ]
  },
  {
   "cell_type": "markdown",
   "id": "identified-determination",
   "metadata": {},
   "source": [
    "Next, we specify that of the multiple files in the figshare repo, that we only wish to download the `data.zip` file:"
   ]
  },
  {
   "cell_type": "code",
   "execution_count": 13,
   "id": "needed-rebound",
   "metadata": {},
   "outputs": [],
   "source": [
    "files_to_dl = [\"data.zip\"]"
   ]
  },
  {
   "cell_type": "markdown",
   "id": "piano-command",
   "metadata": {},
   "source": [
    "Finally, we download the file:"
   ]
  },
  {
   "cell_type": "code",
   "execution_count": 14,
   "id": "everyday-pasta",
   "metadata": {},
   "outputs": [],
   "source": [
    "# download missing files\n",
    "for item in filter(lambda x: x['name'] in files_to_dl, files):\n",
    "    filename = os.path.join(output_directory, item[\"name\"])\n",
    "    if not os.path.isfile(filename):\n",
    "        urlretrieve(item[\"download_url\"], filename)"
   ]
  },
  {
   "cell_type": "markdown",
   "id": "cathedral-complement",
   "metadata": {},
   "source": [
    "In part 4, we are reading in the data directly from the zip file, so no ZIP extraction is necessary as this would needlessly take up disk space. Since some of our team mates were short on available disk space, we chose not to run this. \n",
    "\n",
    "However, if we wanted to achieve this, we would run the following code:"
   ]
  },
  {
   "cell_type": "code",
   "execution_count": 25,
   "id": "right-amsterdam",
   "metadata": {},
   "outputs": [],
   "source": [
    "# this block gets skipped\n",
    "if False:\n",
    "    with zipfile.ZipFile(os.path.join(output_directory, \"data.zip\"), 'r') as f:\n",
    "        f.extractall(output_directory)"
   ]
  },
  {
   "cell_type": "markdown",
   "id": "computational-standing",
   "metadata": {},
   "source": [
    "This method of extracting the CSV is used in other notebooks listed in part 4."
   ]
  },
  {
   "cell_type": "markdown",
   "id": "hairy-license",
   "metadata": {},
   "source": [
    "## Part 4: Combining data CSVs"
   ]
  },
  {
   "cell_type": "markdown",
   "id": "favorite-failure",
   "metadata": {},
   "source": [
    "In this step, we will combine the 27 CSV files in the `data.zip` into one large CSV file that we will write to disk. As per Tom Beuzen's guidance on Slack forums, we are excluding the file `observed_daily_rainfall_SYD.csv` from this analysis.\n",
    "\n",
    "Our team attempted 7 different approaches to loading the data into memory:\n",
    "\n",
    "- [Method 1](https://github.com/UBC-MDS/cloud9/blob/main/notebook/method1.ipynb): Reading-in the CSVs from the zip file directly (no unzipping)]\n",
    "- [Method 2](https://github.com/UBC-MDS/cloud9/blob/main/notebook/method2.ipynb): Unzipping the file, then reading-in each CSV file (with pd.concat)\n",
    "- [Method 3](https://github.com/UBC-MDS/cloud9/blob/main/notebook/method3.ipynb): Unzipping the file, then reading-in each CSV file (with append)\n",
    "- [Method 4](https://github.com/UBC-MDS/cloud9/blob/main/notebook/method4.ipynb): Change datatypes from float64 to float32\n",
    "- [Method 5](https://github.com/UBC-MDS/cloud9/blob/main/notebook/method5.ipynb): Select only columns we care about (time, rainfall, and model name)\n",
    "- [Method 6](https://github.com/UBC-MDS/cloud9/blob/main/notebook/method6.ipynb): Chunking the read step (increments of 1mn rows)\n",
    "- [Method 7](https://github.com/UBC-MDS/cloud9/blob/main/notebook/method7.ipynb): Dask\n",
    "\n",
    "\n",
    "Each team member attempted these methods:\n",
    "\n",
    "\n",
    "\n",
    "|                                  | Memory (MiB) | Wall Time (hh:mm:ss) | Memory (MiB) | Wall Time (hh:mm:ss) | Memory (MiB) | Wall Time (hh:mm:ss) | Memory (MiB) | Wall Time (hh:mm:ss) |\n",
    "| -------------------------------- | ------------ | -------------------- | ------------ | -------------------- | ------------ | -------------------- | ------------ | -------------------- |\n",
    "|                                  | Chad   |         Chad                   | Elina      |      Elina    | Jordan      |      Jordan              | Raf    |             Raf           |\n",
    "| Method 1 - Pandas on zip         | 4937.63      | 00:06:26             | 6074.06      | 00:01:08             | 2728.92      | 1min 31s             | 10,824       | 00:01:14             |\n",
    "| Method 2 - Pandas on unzipped    | 5665.94      | 00:10:40             | 6491.25      | 00:00:58             | 3376.7       | 1min 34s             | 9,747        | 00:01:00             |\n",
    "| Method 3 - Append                | CRASHED      | CRASHED              | 9049.7       | 00:02:32             | 4713.11      | 5min 1s              | 12,652       | 00:02:54             |\n",
    "| Method 4 - Change dtypes         | 3908.91      | 00:03:28             | 4346.09      | 00:00:57             | 3930.02      | 1min 14s             | 6,418        | 00:01:09             |\n",
    "| Method 5 - Selective columns     | 2672.21      | 00:02:54             | 4007.17      | 00:00:45             | 2667.77      | 59.8 s               | 4,694        | 00:00:52             |\n",
    "| Method 6 - Chunking (1e6)        | 3279.76      | 00:03:24             | 3311.48      | 00:01:31             | 3163.36      | 1min 47s             | 12,239       | 00:01:50             |\n",
    "| Method 7 - Dask (data load only) | 4.35         | 00:00:03             | 9.86         | 00:00:01             | 9.6          | 1.36 s               | 7            | 00:00:01             |\n",
    "\n",
    "\n",
    "\n"
   ]
  },
  {
   "cell_type": "markdown",
   "id": "impaired-marble",
   "metadata": {},
   "source": [
    "We can see some wildly different results. In particular, it seems that on Raf's machine-- which had ample memory and processing power-- the memory requirements were very large and unpredictable. We hypothesize that this might be because the computer is not necessarily trying to optimize or swap memory if there memory pressure is low.\n",
    "\n",
    "In terms of winning strategies, selective columns looks like it worked well, but naturally causes loss of information prior to EDA. Dask was amazingly quick to load-- but writing it to parquet for subsequent use in R proved difficult. Going from Dask to CSV took just as long as looping and using traditional pandas approaches. To our knowledge, Dask cannot connect to individual files in a zip without first unzipping them.\n",
    "\n",
    "TODO: CHECK THAT\n",
    "\n",
    "Although all team members had sufficient disk space to complete the above methods, some team members ran out of disk space when trying to write the object from memory back to a combo CSV (require approx 6 GB). In the end, since everyone had decent results using **Method 1**, we decided to use this approach to read the data into memory to avoid making copies of files. Additionally, in order to write a combination CSV file to disk, we decided to use pandas' _append_ mode of writing to disk, so that only a single CSV is held in memory at a given time while we build the combo CSV. Together, these two approaches allowed us to keep the disk space requirement low.\n",
    "\n",
    "Let's run the chosen approach:"
   ]
  },
  {
   "cell_type": "code",
   "execution_count": null,
   "id": "second-salvation",
   "metadata": {},
   "outputs": [],
   "source": [
    "# open a read-only connection to zip file\n",
    "zfile = zipfile.ZipFile(glob.glob(output_directory + \"*.zip\")[0], \"r\")\n",
    "\n",
    "# list non-hidden files in zip\n",
    "z_csvs = list(filter(lambda x: not x.startswith(\"__\"), zfile.namelist()))\n",
    "z_csvs = [x for x in z_csvs if \"observed\" not in x]"
   ]
  },
  {
   "cell_type": "code",
   "execution_count": 6,
   "id": "czech-gregory",
   "metadata": {},
   "outputs": [
    {
     "name": "stdout",
     "output_type": "stream",
     "text": [
      "peak memory: 279.47 MiB, increment: 0.05 MiB\n",
      "CPU times: user 54.6 ms, sys: 47.1 ms, total: 102 ms\n",
      "Wall time: 3.83 s\n"
     ]
    }
   ],
   "source": [
    "%%time\n",
    "%%memit\n",
    "\n",
    "# write to CSV\n",
    "combo_file = output_directory + \"combo_data.csv\"\n",
    "if not os.path.isfile(combo_file):\n",
    "    # write an empty dataframe to CSV\n",
    "    cols = [\"model\", \"time\", \"lat_min\", \"lat_max\", \"lon_min\", \"lon_max\", \"rain (mm/day)\"]\n",
    "    pd.DataFrame(columns=cols).to_csv(combo_file)\n",
    "\n",
    "    # populate the combo file with ZIP contents\n",
    "    for csv in z_csvs:\n",
    "        df = pd.read_csv(zfile.open(csv))\n",
    "        df[\"model\"] = csv.split('_daily')[0]\n",
    "        df[cols].to_csv(combo_file, mode='a', header=False)\n",
    "        del df"
   ]
  },
  {
   "cell_type": "markdown",
   "id": "nuclear-medicare",
   "metadata": {},
   "source": [
    "On Raf's computer, this step takes about 8 minutes and 30 seconds (the timing above may not apply if the combo data file already is present on disk)."
   ]
  },
  {
   "cell_type": "markdown",
   "id": "exterior-tulsa",
   "metadata": {},
   "source": [
    "## Part 5: Load the combined CSV to memory and perform a simple EDA"
   ]
  },
  {
   "cell_type": "markdown",
   "id": "nominated-cosmetic",
   "metadata": {},
   "source": [
    "The above cell takes 8 min 30s on Raf's computer."
   ]
  },
  {
   "cell_type": "markdown",
   "id": "median-robinson",
   "metadata": {},
   "source": [
    "### Option 5.1: Selective selection of columns with float32"
   ]
  },
  {
   "cell_type": "code",
   "execution_count": 10,
   "id": "fantastic-adjustment",
   "metadata": {},
   "outputs": [
    {
     "name": "stdout",
     "output_type": "stream",
     "text": [
      "peak memory: 4826.23 MiB, increment: 4534.57 MiB\n",
      "CPU times: user 54.6 s, sys: 4.29 s, total: 58.9 s\n",
      "Wall time: 1min\n"
     ]
    }
   ],
   "source": [
    "%%time\n",
    "%%memit\n",
    "\n",
    "# define the dtypes\n",
    "colspec = {\"time\": \"str\",\n",
    "           \"lat_min\": np.float32,\n",
    "           \"lat_max\": np.float32,\n",
    "           \"lon_min\": np.float32,\n",
    "           \"lon_max\": np.float32,\n",
    "           \"rain (mm/day)\": np.float32}\n",
    "\n",
    "# select cols\n",
    "usecols = [\"model\", \"time\", \"rain (mm/day)\"]\n",
    "\n",
    "# read-in the combo file\n",
    "dat = pd.read_csv(combo_file, dtype=colspec, parse_dates=[\"time\"], usecols=usecols)"
   ]
  },
  {
   "cell_type": "markdown",
   "id": "dominant-kinase",
   "metadata": {},
   "source": [
    "Our team was not sure if it was necessary to specify `float32` types for columns being discarded, be we figured it would do any harm."
   ]
  },
  {
   "cell_type": "markdown",
   "id": "consecutive-roulette",
   "metadata": {},
   "source": [
    "### Option 5.2: Dask"
   ]
  },
  {
   "cell_type": "markdown",
   "id": "incident-adoption",
   "metadata": {},
   "source": [
    "Our next option is reading-in the combined file using dask:"
   ]
  },
  {
   "cell_type": "code",
   "execution_count": 11,
   "id": "polish-memorial",
   "metadata": {},
   "outputs": [
    {
     "name": "stdout",
     "output_type": "stream",
     "text": [
      "peak memory: 3434.07 MiB, increment: 0.50 MiB\n",
      "CPU times: user 187 ms, sys: 220 ms, total: 407 ms\n",
      "Wall time: 1.39 s\n"
     ]
    }
   ],
   "source": [
    "%%time\n",
    "%%memit\n",
    "\n",
    "# read-in with dask\n",
    "dat = dd.read_csv(combo_file)"
   ]
  },
  {
   "cell_type": "markdown",
   "id": "fluid-furniture",
   "metadata": {},
   "source": [
    "From the profiling, it is apparent that Dask has a negligible memory footprint."
   ]
  },
  {
   "cell_type": "code",
   "execution_count": 12,
   "id": "referenced-probe",
   "metadata": {},
   "outputs": [
    {
     "data": {
      "text/html": [
       "<div>\n",
       "<style scoped>\n",
       "    .dataframe tbody tr th:only-of-type {\n",
       "        vertical-align: middle;\n",
       "    }\n",
       "\n",
       "    .dataframe tbody tr th {\n",
       "        vertical-align: top;\n",
       "    }\n",
       "\n",
       "    .dataframe thead th {\n",
       "        text-align: right;\n",
       "    }\n",
       "</style>\n",
       "<table border=\"1\" class=\"dataframe\">\n",
       "  <thead>\n",
       "    <tr style=\"text-align: right;\">\n",
       "      <th></th>\n",
       "      <th>model</th>\n",
       "      <th>time</th>\n",
       "      <th>lat_min</th>\n",
       "      <th>lat_max</th>\n",
       "      <th>lon_min</th>\n",
       "      <th>lon_min.1</th>\n",
       "      <th>rain (mm/day)</th>\n",
       "    </tr>\n",
       "  </thead>\n",
       "  <tbody>\n",
       "    <tr>\n",
       "      <th>0</th>\n",
       "      <td>MPI-ESM-1-2-HAM</td>\n",
       "      <td>1889-01-01 12:00:00</td>\n",
       "      <td>-35.439867</td>\n",
       "      <td>-33.574619</td>\n",
       "      <td>141.5625</td>\n",
       "      <td>141.5625</td>\n",
       "      <td>4.244226e-13</td>\n",
       "    </tr>\n",
       "    <tr>\n",
       "      <th>1</th>\n",
       "      <td>MPI-ESM-1-2-HAM</td>\n",
       "      <td>1889-01-02 12:00:00</td>\n",
       "      <td>-35.439867</td>\n",
       "      <td>-33.574619</td>\n",
       "      <td>141.5625</td>\n",
       "      <td>141.5625</td>\n",
       "      <td>4.217326e-13</td>\n",
       "    </tr>\n",
       "    <tr>\n",
       "      <th>2</th>\n",
       "      <td>MPI-ESM-1-2-HAM</td>\n",
       "      <td>1889-01-03 12:00:00</td>\n",
       "      <td>-35.439867</td>\n",
       "      <td>-33.574619</td>\n",
       "      <td>141.5625</td>\n",
       "      <td>141.5625</td>\n",
       "      <td>4.498125e-13</td>\n",
       "    </tr>\n",
       "    <tr>\n",
       "      <th>3</th>\n",
       "      <td>MPI-ESM-1-2-HAM</td>\n",
       "      <td>1889-01-04 12:00:00</td>\n",
       "      <td>-35.439867</td>\n",
       "      <td>-33.574619</td>\n",
       "      <td>141.5625</td>\n",
       "      <td>141.5625</td>\n",
       "      <td>4.251282e-13</td>\n",
       "    </tr>\n",
       "    <tr>\n",
       "      <th>4</th>\n",
       "      <td>MPI-ESM-1-2-HAM</td>\n",
       "      <td>1889-01-05 12:00:00</td>\n",
       "      <td>-35.439867</td>\n",
       "      <td>-33.574619</td>\n",
       "      <td>141.5625</td>\n",
       "      <td>141.5625</td>\n",
       "      <td>4.270161e-13</td>\n",
       "    </tr>\n",
       "  </tbody>\n",
       "</table>\n",
       "</div>"
      ],
      "text/plain": [
       "             model                 time    lat_min    lat_max   lon_min  \\\n",
       "0  MPI-ESM-1-2-HAM  1889-01-01 12:00:00 -35.439867 -33.574619  141.5625   \n",
       "1  MPI-ESM-1-2-HAM  1889-01-02 12:00:00 -35.439867 -33.574619  141.5625   \n",
       "2  MPI-ESM-1-2-HAM  1889-01-03 12:00:00 -35.439867 -33.574619  141.5625   \n",
       "3  MPI-ESM-1-2-HAM  1889-01-04 12:00:00 -35.439867 -33.574619  141.5625   \n",
       "4  MPI-ESM-1-2-HAM  1889-01-05 12:00:00 -35.439867 -33.574619  141.5625   \n",
       "\n",
       "   lon_min.1  rain (mm/day)  \n",
       "0   141.5625   4.244226e-13  \n",
       "1   141.5625   4.217326e-13  \n",
       "2   141.5625   4.498125e-13  \n",
       "3   141.5625   4.251282e-13  \n",
       "4   141.5625   4.270161e-13  "
      ]
     },
     "execution_count": 12,
     "metadata": {},
     "output_type": "execute_result"
    }
   ],
   "source": [
    "\n",
    "dat.head()"
   ]
  },
  {
   "cell_type": "code",
   "execution_count": 17,
   "id": "metropolitan-payday",
   "metadata": {},
   "outputs": [
    {
     "name": "stdout",
     "output_type": "stream",
     "text": [
      "62467843\n",
      "peak memory: 6546.75 MiB, increment: 2647.23 MiB\n",
      "CPU times: user 1min 27s, sys: 18.6 s, total: 1min 46s\n",
      "Wall time: 35.6 s\n"
     ]
    }
   ],
   "source": [
    "%%time\n",
    "%%memit\n",
    "\n",
    "print(dat.shape[0].compute())"
   ]
  },
  {
   "cell_type": "markdown",
   "id": "composite-traffic",
   "metadata": {},
   "source": [
    "We can see that a 'simple' operation of counting the number of rows took much longer than the near-instantaneous `.shape` attribute we are accustomed to with the usual pandas DataFrames.\n",
    "\n",
    "Let's try a more realistic EDA scenario, where we would want to look at average rainfall by model:"
   ]
  },
  {
   "cell_type": "code",
   "execution_count": 14,
   "id": "premium-settle",
   "metadata": {},
   "outputs": [
    {
     "name": "stdout",
     "output_type": "stream",
     "text": [
      "               model      mean       std\n",
      "0      MPI-ESM1-2-HR  0.995569  4.083814\n",
      "1      MPI-ESM1-2-LR  1.074308  3.911700\n",
      "2          KIOST-ESM  1.102353  3.852051\n",
      "3         MRI-ESM2-0  1.368030  4.517987\n",
      "4           GFDL-CM4  1.414485  5.024926\n",
      "5   EC-Earth3-Veg-LR  1.516258  4.714335\n",
      "6    MPI-ESM-1-2-HAM  1.610720  4.885519\n",
      "7              NESM3  1.621936  4.971972\n",
      "8        FGOALS-f3-L  1.627373  5.747396\n",
      "9         ACCESS-CM2  1.787025  5.914188\n",
      "10          BCC-ESM1  1.811032  5.358361\n",
      "11           CanESM5  1.894328  5.835787\n",
      "12       BCC-CSM2-MR  1.951832  6.200969\n",
      "13    AWI-ESM-1-1-LR  2.026071  5.321889\n",
      "14         FGOALS-g3  2.156419  6.015488\n",
      "15       SAM0-UNICON  2.169676  6.383241\n",
      "16     ACCESS-ESM1-5  2.217501  6.422397\n",
      "17           TaiESM1  2.224576  5.886578\n",
      "18        NorESM2-LM  2.230799  5.681562\n",
      "19        NorESM2-MM  2.232966  6.151688\n",
      "20         CMCC-ESM2  2.266125  5.538429\n",
      "21      CMCC-CM2-HR4  2.279350  5.629965\n",
      "22            MIROC6  2.301662  6.393745\n",
      "23      CMCC-CM2-SR5  2.383389  5.895950\n",
      "24         INM-CM5-0  2.669012  6.534084\n",
      "25         INM-CM4-8  2.811463  6.266301\n",
      "26         GFDL-ESM4       NaN       NaN\n",
      "peak memory: 4136.17 MiB, increment: 431.26 MiB\n",
      "CPU times: user 3min 4s, sys: 33.1 s, total: 3min 37s\n",
      "Wall time: 1min 14s\n"
     ]
    }
   ],
   "source": [
    "%%time\n",
    "%%memit\n",
    "\n",
    "res = (dat\n",
    "       .groupby('model')['rain (mm/day)']\n",
    "       .agg([\"mean\", \"std\"])\n",
    "       .sort_values(\"mean\")\n",
    "       .reset_index()\n",
    "       .compute()\n",
    "      )\n",
    "print(res)"
   ]
  },
  {
   "cell_type": "markdown",
   "id": "conservative-bryan",
   "metadata": {},
   "source": [
    "Calculating model-wise summaries also took a long time-- almost a minute! However, the memory usage was reasonable, at 431 MiB.\n",
    "\n",
    "Let's plot this result:"
   ]
  },
  {
   "cell_type": "code",
   "execution_count": 19,
   "id": "sharing-forest",
   "metadata": {},
   "outputs": [
    {
     "data": {
      "application/vnd.vegalite.v4+json": {
       "$schema": "https://vega.github.io/schema/vega-lite/v4.8.1.json",
       "config": {
        "view": {
         "continuousHeight": 300,
         "continuousWidth": 400
        }
       },
       "data": {
        "name": "data-f0c50a9bf33d2479c3afbc77ebce0ee6"
       },
       "datasets": {
        "data-f0c50a9bf33d2479c3afbc77ebce0ee6": [
         {
          "mean": 0.9955688065533744,
          "model": "MPI-ESM1-2-HR",
          "std": 4.083814373328663
         },
         {
          "mean": 1.0743084960846276,
          "model": "MPI-ESM1-2-LR",
          "std": 3.911700316698158
         },
         {
          "mean": 1.1023526378414445,
          "model": "KIOST-ESM",
          "std": 3.8520512831214107
         },
         {
          "mean": 1.368030088018406,
          "model": "MRI-ESM2-0",
          "std": 4.5179868819862445
         },
         {
          "mean": 1.4144852985969987,
          "model": "GFDL-CM4",
          "std": 5.024925963820873
         },
         {
          "mean": 1.516258422401508,
          "model": "EC-Earth3-Veg-LR",
          "std": 4.7143348042710285
         },
         {
          "mean": 1.610719530705644,
          "model": "MPI-ESM-1-2-HAM",
          "std": 4.885519404475815
         },
         {
          "mean": 1.621935974403736,
          "model": "NESM3",
          "std": 4.971971736716525
         },
         {
          "mean": 1.6273731504819169,
          "model": "FGOALS-f3-L",
          "std": 5.747395822218745
         },
         {
          "mean": 1.7870250304246056,
          "model": "ACCESS-CM2",
          "std": 5.914187673759273
         },
         {
          "mean": 1.8110320459718185,
          "model": "BCC-ESM1",
          "std": 5.358361266908649
         },
         {
          "mean": 1.8943277599145107,
          "model": "CanESM5",
          "std": 5.835786850330201
         },
         {
          "mean": 1.9518321417108346,
          "model": "BCC-CSM2-MR",
          "std": 6.200969182306752
         },
         {
          "mean": 2.02607137792702,
          "model": "AWI-ESM-1-1-LR",
          "std": 5.321889430431172
         },
         {
          "mean": 2.1564194691800247,
          "model": "FGOALS-g3",
          "std": 6.015488416633586
         },
         {
          "mean": 2.169676404889011,
          "model": "SAM0-UNICON",
          "std": 6.383241255926259
         },
         {
          "mean": 2.217501099154943,
          "model": "ACCESS-ESM1-5",
          "std": 6.422396911760173
         },
         {
          "mean": 2.224576027031658,
          "model": "TaiESM1",
          "std": 5.886578237608685
         },
         {
          "mean": 2.230799049800549,
          "model": "NorESM2-LM",
          "std": 5.681561725602799
         },
         {
          "mean": 2.232965652876129,
          "model": "NorESM2-MM",
          "std": 6.151687629756643
         },
         {
          "mean": 2.266124663481638,
          "model": "CMCC-ESM2",
          "std": 5.538429219020805
         },
         {
          "mean": 2.279350437996933,
          "model": "CMCC-CM2-HR4",
          "std": 5.629964741566606
         },
         {
          "mean": 2.3016616924335285,
          "model": "MIROC6",
          "std": 6.393744930574043
         },
         {
          "mean": 2.3833885142892,
          "model": "CMCC-CM2-SR5",
          "std": 5.895949644658955
         },
         {
          "mean": 2.669012118497868,
          "model": "INM-CM5-0",
          "std": 6.534084427498623
         },
         {
          "mean": 2.8114628166842675,
          "model": "INM-CM4-8",
          "std": 6.266300833221415
         },
         {
          "mean": null,
          "model": "GFDL-ESM4",
          "std": null
         }
        ]
       },
       "encoding": {
        "x": {
         "field": "mean",
         "title": "Mean Rainfall Per Day (mm)",
         "type": "quantitative"
        },
        "y": {
         "field": "model",
         "sort": "-x",
         "type": "nominal"
        }
       },
       "mark": "point",
       "title": "Average Rainfall by Model"
      },
      "image/png": "[encoded data removed]",
      "text/plain": [
       "<VegaLite 4 object>\n",
       "\n",
       "If you see this message, it means the renderer has not been properly enabled\n",
       "for the frontend that you are using. For more information, see\n",
       "https://altair-viz.github.io/user_guide/troubleshooting.html\n"
      ]
     },
     "execution_count": 19,
     "metadata": {},
     "output_type": "execute_result"
    }
   ],
   "source": [
    "base = alt.Chart(res, title = \"Average Rainfall by Model\")\n",
    "points = base.mark_point().encode(\n",
    "    alt.Y(\"model:N\", sort=\"-x\"),\n",
    "    alt.X(\"mean:Q\", title = \"Mean Rainfall Per Day (mm)\")\n",
    ")\n",
    "\n",
    "points"
   ]
  },
  {
   "cell_type": "markdown",
   "id": "joint-socket",
   "metadata": {},
   "source": [
    "From this simple EDA, we can see that average rainfall ranges from 1 to 2.8 mm/day for the different models. Most models place the mean rain fall somewhere near 1.8-2.0 mm/day."
   ]
  },
  {
   "cell_type": "markdown",
   "id": "valid-container",
   "metadata": {},
   "source": [
    "**Part 5 Summary**:\n",
    "\n",
    "We can see that Dask is very efficient with regards to reducing memory requirements. However, the prices for this are queries that are much slower to run. In contrast, the modified pandas approaches (selective columns, float32) is memory-hungry, but conducts queries quickly provided the machine has enough memory."
   ]
  },
  {
   "cell_type": "markdown",
   "id": "grand-enhancement",
   "metadata": {},
   "source": [
    "## Part 6: Perform a simple EDA in R\n",
    "\n",
    "The first step is to transfer the data from the Python kernel to the R kernel:"
   ]
  },
  {
   "cell_type": "code",
   "execution_count": 20,
   "id": "academic-hours",
   "metadata": {},
   "outputs": [],
   "source": [
    "%load_ext rpy2.ipython"
   ]
  },
  {
   "cell_type": "code",
   "execution_count": null,
   "id": "blessed-margin",
   "metadata": {},
   "outputs": [],
   "source": [
    "%%R\n",
    "\n",
    "library(tidyverse)"
   ]
  },
  {
   "attachments": {
    "390e63a1-4868-4564-af12-a6f90fd86f78.png": {
     "image/png": "[encoded data removed]"
    }
   },
   "cell_type": "markdown",
   "id": "forced-alpha",
   "metadata": {},
   "source": [
    "### Option 6.1: Pandas Exchange\n",
    "\n",
    "Unfortunately, Pandas exchange is a terribly slow solution for transferring data. On the computer with the best resources this took 39 minutes:\n",
    "\n",
    "![image.png](attachment:390e63a1-4868-4564-af12-a6f90fd86f78.png)"
   ]
  },
  {
   "cell_type": "markdown",
   "id": "lovely-healthcare",
   "metadata": {},
   "source": [
    "### Option 6.2: Arrow Exchange\n",
    "\n",
    "Arrow exchange can be a bit temperamental. For example, we discovered that `ds.dataset()` did not work if the CSV file was saved to disk with the index, since this would result the first column header being unnamed. "
   ]
  },
  {
   "cell_type": "code",
   "execution_count": 16,
   "id": "technical-tuition",
   "metadata": {},
   "outputs": [
    {
     "name": "stdout",
     "output_type": "stream",
     "text": [
      "5673\n",
      "rarrow.ChunkedArray: 0.028639554977416992\n",
      "5673\n",
      "rarrow.ChunkedArray: 0.028110980987548828\n",
      "5673\n",
      "rarrow.ChunkedArray: 0.025722026824951172\n",
      "5673\n",
      "rarrow.ChunkedArray: 0.03169393539428711\n",
      "5673\n",
      "rarrow.ChunkedArray: 0.02588486671447754\n",
      "5673\n",
      "rarrow.ChunkedArray: 0.02441692352294922\n",
      "5673\n",
      "rarrow.ChunkedArray: 0.023591041564941406\n",
      "peak memory: 3174.38 MiB, increment: 2941.07 MiB\n",
      "CPU times: user 50.1 s, sys: 14.4 s, total: 1min 4s\n",
      "Wall time: 1min 1s\n"
     ]
    }
   ],
   "source": [
    "%%time\n",
    "%%memit\n",
    "\n",
    "dataset = ds.dataset(\"figshareairline/combo_data.csv\", format=\"csv\")\n",
    "table = dataset.to_table()\n",
    "r_table = pyra.converter.py2rpy(table)"
   ]
  },
  {
   "cell_type": "code",
   "execution_count": 20,
   "id": "indonesian-racing",
   "metadata": {},
   "outputs": [
    {
     "name": "stdout",
     "output_type": "stream",
     "text": [
      "\u001b[90m# A tibble: 27 x 2\u001b[39m\n",
      "   model                  n\n",
      "   \u001b[3m\u001b[90m<chr>\u001b[39m\u001b[23m              \u001b[3m\u001b[90m<int>\u001b[39m\u001b[23m\n",
      "\u001b[90m 1\u001b[39m ACCESS-CM2       1\u001b[4m9\u001b[24m\u001b[4m3\u001b[24m\u001b[4m2\u001b[24m840\n",
      "\u001b[90m 2\u001b[39m ACCESS-ESM1-5    1\u001b[4m6\u001b[24m\u001b[4m1\u001b[24m\u001b[4m0\u001b[24m700\n",
      "\u001b[90m 3\u001b[39m AWI-ESM-1-1-LR    \u001b[4m9\u001b[24m\u001b[4m6\u001b[24m\u001b[4m6\u001b[24m420\n",
      "\u001b[90m 4\u001b[39m BCC-CSM2-MR      3\u001b[4m0\u001b[24m\u001b[4m3\u001b[24m\u001b[4m5\u001b[24m340\n",
      "\u001b[90m 5\u001b[39m BCC-ESM1          \u001b[4m5\u001b[24m\u001b[4m5\u001b[24m\u001b[4m1\u001b[24m880\n",
      "\u001b[90m 6\u001b[39m CanESM5           \u001b[4m5\u001b[24m\u001b[4m5\u001b[24m\u001b[4m1\u001b[24m880\n",
      "\u001b[90m 7\u001b[39m CMCC-CM2-HR4     3\u001b[4m5\u001b[24m\u001b[4m4\u001b[24m\u001b[4m1\u001b[24m230\n",
      "\u001b[90m 8\u001b[39m CMCC-CM2-SR5     3\u001b[4m5\u001b[24m\u001b[4m4\u001b[24m\u001b[4m1\u001b[24m230\n",
      "\u001b[90m 9\u001b[39m CMCC-ESM2        3\u001b[4m5\u001b[24m\u001b[4m4\u001b[24m\u001b[4m1\u001b[24m230\n",
      "\u001b[90m10\u001b[39m EC-Earth3-Veg-LR 3\u001b[4m0\u001b[24m\u001b[4m3\u001b[24m\u001b[4m7\u001b[24m320\n",
      "\u001b[90m# … with 17 more rows\u001b[39m\n",
      "Time difference of 11.7424 secs\n",
      "CPU times: user 9.26 s, sys: 14.9 s, total: 24.1 s\n",
      "Wall time: 11.8 s\n"
     ]
    }
   ],
   "source": [
    "%%time\n",
    "%%R -i r_table\n",
    "\n",
    "start_time <- Sys.time()\n",
    "result <- r_table %>% collect() %>% count(model)\n",
    "end_time <- Sys.time()\n",
    "print(result)\n",
    "\n",
    "print(end_time - start_time)"
   ]
  },
  {
   "cell_type": "markdown",
   "id": "voluntary-philippines",
   "metadata": {},
   "source": [
    "### Option 6.3: Feather"
   ]
  },
  {
   "cell_type": "code",
   "execution_count": 24,
   "id": "hourly-ireland",
   "metadata": {},
   "outputs": [
    {
     "name": "stdout",
     "output_type": "stream",
     "text": [
      "peak memory: 8284.61 MiB, increment: 103.29 MiB\n",
      "CPU times: user 4.1 s, sys: 8.11 s, total: 12.2 s\n",
      "Wall time: 8.46 s\n"
     ]
    }
   ],
   "source": [
    "%%time\n",
    "%%memit\n",
    "\n",
    "feather.write_feather(table, 'figshareairline/final.feather')"
   ]
  },
  {
   "cell_type": "code",
   "execution_count": 26,
   "id": "cooperative-committee",
   "metadata": {},
   "outputs": [
    {
     "name": "stdout",
     "output_type": "stream",
     "text": [
      "\u001b[90m# A tibble: 27 x 2\u001b[39m\n",
      "   model                  n\n",
      "   \u001b[3m\u001b[90m<chr>\u001b[39m\u001b[23m              \u001b[3m\u001b[90m<int>\u001b[39m\u001b[23m\n",
      "\u001b[90m 1\u001b[39m ACCESS-CM2       1\u001b[4m9\u001b[24m\u001b[4m3\u001b[24m\u001b[4m2\u001b[24m840\n",
      "\u001b[90m 2\u001b[39m ACCESS-ESM1-5    1\u001b[4m6\u001b[24m\u001b[4m1\u001b[24m\u001b[4m0\u001b[24m700\n",
      "\u001b[90m 3\u001b[39m AWI-ESM-1-1-LR    \u001b[4m9\u001b[24m\u001b[4m6\u001b[24m\u001b[4m6\u001b[24m420\n",
      "\u001b[90m 4\u001b[39m BCC-CSM2-MR      3\u001b[4m0\u001b[24m\u001b[4m3\u001b[24m\u001b[4m5\u001b[24m340\n",
      "\u001b[90m 5\u001b[39m BCC-ESM1          \u001b[4m5\u001b[24m\u001b[4m5\u001b[24m\u001b[4m1\u001b[24m880\n",
      "\u001b[90m 6\u001b[39m CanESM5           \u001b[4m5\u001b[24m\u001b[4m5\u001b[24m\u001b[4m1\u001b[24m880\n",
      "\u001b[90m 7\u001b[39m CMCC-CM2-HR4     3\u001b[4m5\u001b[24m\u001b[4m4\u001b[24m\u001b[4m1\u001b[24m230\n",
      "\u001b[90m 8\u001b[39m CMCC-CM2-SR5     3\u001b[4m5\u001b[24m\u001b[4m4\u001b[24m\u001b[4m1\u001b[24m230\n",
      "\u001b[90m 9\u001b[39m CMCC-ESM2        3\u001b[4m5\u001b[24m\u001b[4m4\u001b[24m\u001b[4m1\u001b[24m230\n",
      "\u001b[90m10\u001b[39m EC-Earth3-Veg-LR 3\u001b[4m0\u001b[24m\u001b[4m3\u001b[24m\u001b[4m7\u001b[24m320\n",
      "\u001b[90m# … with 17 more rows\u001b[39m\n",
      "Time difference of 12.77123 secs\n",
      "CPU times: user 7.55 s, sys: 6.57 s, total: 14.1 s\n",
      "Wall time: 12.8 s\n"
     ]
    }
   ],
   "source": [
    "%%time\n",
    "%%R\n",
    "\n",
    "start_time <- Sys.time()\n",
    "ft_df <- arrow::read_feather(\"figshareairline/final.feather\",\n",
    "                             col_select = c(\"time\", \"rain (mm/day)\", \"model\"))\n",
    "result <- ft_df %>% count(model)\n",
    "end_time <- Sys.time()\n",
    "\n",
    "print(result)\n",
    "\n",
    "print(end_time - start_time)"
   ]
  },
  {
   "cell_type": "code",
   "execution_count": 30,
   "id": "timely-times",
   "metadata": {},
   "outputs": [
    {
     "name": "stdout",
     "output_type": "stream",
     "text": [
      "1.0G\tfigshareairline/final.feather\n"
     ]
    }
   ],
   "source": [
    "%%sh\n",
    "du -sh figshareairline/final.feather"
   ]
  },
  {
   "cell_type": "markdown",
   "id": "thrown-avenue",
   "metadata": {},
   "source": [
    "Combined, this implies roughly 18 seconds to transfer and analyse the data with feather."
   ]
  },
  {
   "cell_type": "markdown",
   "id": "threatened-excerpt",
   "metadata": {},
   "source": [
    "### Option 6.4: Parquet"
   ]
  },
  {
   "cell_type": "code",
   "execution_count": 28,
   "id": "hollow-medline",
   "metadata": {},
   "outputs": [
    {
     "data": {
      "text/plain": [
       "pyarrow.lib.Table"
      ]
     },
     "execution_count": 28,
     "metadata": {},
     "output_type": "execute_result"
    }
   ],
   "source": [
    "type(table)"
   ]
  },
  {
   "cell_type": "markdown",
   "id": "legislative-firmware",
   "metadata": {},
   "source": [
    "### Option 6.5: CSV via Disk"
   ]
  },
  {
   "cell_type": "markdown",
   "id": "continued-lotus",
   "metadata": {},
   "source": [
    "Finally, we wanted to check how long it would take to simply transfer the data between Python and R via a CSV file directly. Since we already saw above that it took 8 min 30 seconds to write the combination file to disk, the only thing missing for us to measure is the time/memory needed to read that CSV to R natively:"
   ]
  },
  {
   "cell_type": "code",
   "execution_count": 21,
   "id": "defined-diana",
   "metadata": {},
   "outputs": [
    {
     "name": "stdout",
     "output_type": "stream",
     "text": [
      "\n",
      "\u001b[36m──\u001b[39m \u001b[1m\u001b[1mColumn specification\u001b[1m\u001b[22m \u001b[36m─────────────────────────────────────────────────────────────────────────────────────────────────────────────────────────────────────────────────────────────────────\u001b[39m\n",
      "cols(\n",
      "  model = \u001b[31mcol_character()\u001b[39m,\n",
      "  time = \u001b[34mcol_datetime(format = \"\")\u001b[39m,\n",
      "  lat_min = \u001b[32mcol_double()\u001b[39m,\n",
      "  lat_max = \u001b[32mcol_double()\u001b[39m,\n",
      "  lon_min = \u001b[32mcol_double()\u001b[39m,\n",
      "  lon_min.1 = \u001b[32mcol_double()\u001b[39m,\n",
      "  `rain (mm/day)` = \u001b[32mcol_double()\u001b[39m\n",
      ")\n",
      "\n",
      "|=================================================================| 100% 5672 MB\n",
      "   user  system elapsed \n",
      "158.161  27.207 166.103 \n"
     ]
    }
   ],
   "source": [
    "%%R\n",
    "\n",
    "system.time({\n",
    "    colspec = cols(\n",
    "          model = col_character(),\n",
    "          time = col_datetime(format = \"\"),\n",
    "          lat_min = col_double(),\n",
    "          lat_max = col_double(),\n",
    "          lon_min = col_double(),\n",
    "          lon_min.1 = col_double(),\n",
    "          `rain (mm/day)` = col_double()\n",
    "        )\n",
    "    df <- readr::read_csv('figshareairline/combo_data.csv', col_types = colspec)\n",
    "})"
   ]
  },
  {
   "cell_type": "markdown",
   "id": "dated-python",
   "metadata": {},
   "source": [
    "**Write from a pyarrow table to parquet:**"
   ]
  },
  {
   "cell_type": "code",
   "execution_count": 26,
   "id": "charged-spouse",
   "metadata": {},
   "outputs": [
    {
     "name": "stdout",
     "output_type": "stream",
     "text": [
      "peak memory: 10032.45 MiB, increment: 134.91 MiB\n",
      "CPU times: user 11.2 s, sys: 2.21 s, total: 13.4 s\n",
      "Wall time: 14.6 s\n"
     ]
    }
   ],
   "source": [
    "%%time\n",
    "%%memit\n",
    "## writing as a single parquet\n",
    "pq.write_table(table, 'figshareairline/final.parquet')"
   ]
  },
  {
   "cell_type": "markdown",
   "id": "productive-bouquet",
   "metadata": {},
   "source": [
    "**Read from parquet:**"
   ]
  },
  {
   "cell_type": "code",
   "execution_count": 32,
   "id": "former-mumbai",
   "metadata": {},
   "outputs": [
    {
     "name": "stdout",
     "output_type": "stream",
     "text": [
      "\u001b[90m# A tibble: 27 x 2\u001b[39m\n",
      "   model                  n\n",
      "   \u001b[3m\u001b[90m<chr>\u001b[39m\u001b[23m              \u001b[3m\u001b[90m<int>\u001b[39m\u001b[23m\n",
      "\u001b[90m 1\u001b[39m ACCESS-CM2       1\u001b[4m9\u001b[24m\u001b[4m3\u001b[24m\u001b[4m2\u001b[24m840\n",
      "\u001b[90m 2\u001b[39m ACCESS-ESM1-5    1\u001b[4m6\u001b[24m\u001b[4m1\u001b[24m\u001b[4m0\u001b[24m700\n",
      "\u001b[90m 3\u001b[39m AWI-ESM-1-1-LR    \u001b[4m9\u001b[24m\u001b[4m6\u001b[24m\u001b[4m6\u001b[24m420\n",
      "\u001b[90m 4\u001b[39m BCC-CSM2-MR      3\u001b[4m0\u001b[24m\u001b[4m3\u001b[24m\u001b[4m5\u001b[24m340\n",
      "\u001b[90m 5\u001b[39m BCC-ESM1          \u001b[4m5\u001b[24m\u001b[4m5\u001b[24m\u001b[4m1\u001b[24m880\n",
      "\u001b[90m 6\u001b[39m CanESM5           \u001b[4m5\u001b[24m\u001b[4m5\u001b[24m\u001b[4m1\u001b[24m880\n",
      "\u001b[90m 7\u001b[39m CMCC-CM2-HR4     3\u001b[4m5\u001b[24m\u001b[4m4\u001b[24m\u001b[4m1\u001b[24m230\n",
      "\u001b[90m 8\u001b[39m CMCC-CM2-SR5     3\u001b[4m5\u001b[24m\u001b[4m4\u001b[24m\u001b[4m1\u001b[24m230\n",
      "\u001b[90m 9\u001b[39m CMCC-ESM2        3\u001b[4m5\u001b[24m\u001b[4m4\u001b[24m\u001b[4m1\u001b[24m230\n",
      "\u001b[90m10\u001b[39m EC-Earth3-Veg-LR 3\u001b[4m0\u001b[24m\u001b[4m3\u001b[24m\u001b[4m7\u001b[24m320\n",
      "\u001b[90m# … with 17 more rows\u001b[39m\n",
      "Time difference of 10.2242 secs\n",
      "CPU times: user 9.34 s, sys: 4.81 s, total: 14.2 s\n",
      "Wall time: 10.3 s\n"
     ]
    }
   ],
   "source": [
    "%%time\n",
    "%%R\n",
    "start_time <- Sys.time()\n",
    "pq_df <- arrow::read_parquet(\"figshareairline/final.parquet\", col_select = c(\"time\", \"rain (mm/day)\", \"model\"))\n",
    "result <- pq_df %>% count(model)\n",
    "end_time <- Sys.time()\n",
    "print(result)\n",
    "\n",
    "print(end_time - start_time)"
   ]
  },
  {
   "cell_type": "code",
   "execution_count": 29,
   "id": "differential-dominican",
   "metadata": {},
   "outputs": [
    {
     "name": "stdout",
     "output_type": "stream",
     "text": [
      "544M\tfigshareairline/final.parquet\n"
     ]
    }
   ],
   "source": [
    "%%sh\n",
    "du -sh figshareairline/final.parquet"
   ]
  },
  {
   "cell_type": "markdown",
   "id": "affected-suffering",
   "metadata": {},
   "source": [
    "Combined, this implies roughly 27 seconds to transfer and analyse the data with parquet."
   ]
  },
  {
   "cell_type": "markdown",
   "id": "introductory-tower",
   "metadata": {},
   "source": [
    "**Section 6 Summary**"
   ]
  },
  {
   "cell_type": "markdown",
   "id": "abandoned-naples",
   "metadata": {},
   "source": [
    "TODO: tidy up\n",
    "\n",
    "These were some benchmarks run on I/O for a dataset with 5,000 records."
   ]
  },
  {
   "cell_type": "markdown",
   "id": "athletic-cambodia",
   "metadata": {},
   "source": [
    "Note, however, that the above were run on Raf's computer, and the results were far worse on other machines."
   ]
  },
  {
   "cell_type": "code",
   "execution_count": 24,
   "id": "female-retreat",
   "metadata": {},
   "outputs": [
    {
     "data": {
      "image/png": "[encoded data removed]"
     },
     "metadata": {},
     "output_type": "display_data"
    }
   ],
   "source": [
    "%%R -h 200 -w 750\n",
    "\n",
    "# on Raf's computer\n",
    "results <- tribble(\n",
    "    ~method,           ~operation, ~seconds,  ~memory_MiB, ~disk_MB,\n",
    "    \"CSV via disk\",    \"write\",   8*60 + 30,      1881.55, 5.95*1024,\n",
    "    \"CSV via disk\",    \"read\",          166,         5672,        0,\n",
    "    \"Pandas exchange\", \"read\",        39*60,           NA,        0,\n",
    "    \"Arrow exchange\",  \"write\",          61,      2941.07,        0,\n",
    "    \"Feather\",         \"write\",        8.46,       103.29,     1024,\n",
    "    \"Feather\",         \"read\",          9.3,           NA,        0,\n",
    "    \"Parquet\",         \"write\",        14.6,       134.91,      544,\n",
    "    \"Parquet\",         \"read\",         11.8,           NA,        0)\n",
    "\n",
    "# Visualize\n",
    "results %>%\n",
    "    pivot_longer(cols = c(seconds, memory_MiB, disk_MB)) %>%\n",
    "    ggplot(aes(x = method, y = value, fill = operation)) +\n",
    "    geom_col() +\n",
    "    scale_y_continuous(labels = scales::comma) +\n",
    "    scale_fill_manual(values = c(\"steelblue\", \"orange\")) +\n",
    "    coord_flip() +\n",
    "    facet_wrap(~name) +\n",
    "    labs(title = \"Comparative Metrics\",\n",
    "         y = NULL)"
   ]
  },
  {
   "cell_type": "markdown",
   "id": "pending-cycle",
   "metadata": {},
   "source": [
    "On the whole, it appears that Parquet and Feather both achieve decent results. The trade-off between the two is that Parquet is more lightweight on disk but requires slightly longer computer time, whereas feather takes roughly double the disk space but runs ~ 30% faster.\n",
    "\n",
    "Note, since `%%memit` does not work for cells with R magics, the memory comparison may not be entirely fair. As hypothesized above, it is also possible that the memory requirements reported may be higher on machines that have a lot of free memory available (no memory swapping or virtual memory).\n",
    "\n",
    "And finally, it does appear that pandas exchange is universally bad for large datasets.\n",
    "\n",
    "One drawback of the above approaches is that we needed to create an intermediary (and heavy) `combo_data.csv`, instead of working directly from separate source files. However, weighting all the benefits and drawbacks, our final choice would be to use Feather."
   ]
  },
  {
   "cell_type": "markdown",
   "id": "commercial-badge",
   "metadata": {},
   "source": [
    "## References\n",
    "\n",
    "\n",
    "- Beuzen, Tomas (2021): Daily rainfall over NSW, Australia. figshare. Dataset. https://doi.org/10.6084/m9.figshare.14096681.v3"
   ]
  },
  {
   "cell_type": "code",
   "execution_count": null,
   "id": "final-terrace",
   "metadata": {},
   "outputs": [],
   "source": []
  }
 ],
 "metadata": {
  "kernelspec": {
   "display_name": "Python [conda env:525]",
   "language": "python",
   "name": "conda-env-525-py"
  },
  "language_info": {
   "codemirror_mode": {
    "name": "ipython",
    "version": 3
   },
   "file_extension": ".py",
   "mimetype": "text/x-python",
   "name": "python",
   "nbconvert_exporter": "python",
   "pygments_lexer": "ipython3",
   "version": "3.9.2"
  }
 },
 "nbformat": 4,
 "nbformat_minor": 5
}
